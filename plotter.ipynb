{
 "cells": [
  {
   "cell_type": "code",
   "execution_count": 2,
   "id": "6bf88d25",
   "metadata": {},
   "outputs": [],
   "source": [
    "import seaborn as sns\n",
    "import streamlit as st\n",
    "from matplotlib import pyplot as plt\n",
    "from scipy import stats\n",
    "\n",
    "#set seaborn style\n",
    "sns.set_theme()\n",
    "\n",
    "\n",
    "def pair_plot(df):\n",
    "    fig = sns.pairplot(df)\n",
    "    return fig\n",
    "\n",
    "\n",
    "def dist_plot(df):\n",
    "    df = df.melt('date', var_name='type', value_name='value')\n",
    "    fig = sns.displot(data=df, x='value', hue='type', kde=True, \n",
    "        height=5, aspect=2, palette='hls')\n",
    "    return fig\n",
    "\n",
    "\n",
    "def prob_plot(df):\n",
    "    fig, ax = plt.subplots()\n",
    "    ax = stats.probplot(df, fit=True, plot=plt)\n",
    "    return fig"
   ]
  }
 ],
 "metadata": {
  "kernelspec": {
   "display_name": "Python 3",
   "language": "python",
   "name": "python3"
  },
  "language_info": {
   "codemirror_mode": {
    "name": "ipython",
    "version": 3
   },
   "file_extension": ".py",
   "mimetype": "text/x-python",
   "name": "python",
   "nbconvert_exporter": "python",
   "pygments_lexer": "ipython3",
   "version": "3.8.8"
  }
 },
 "nbformat": 4,
 "nbformat_minor": 5
}
