{
 "cells": [
  {
   "cell_type": "code",
   "execution_count": null,
   "id": "967d5da4",
   "metadata": {},
   "outputs": [],
   "source": [
    "import pandas as pd\n",
    "import calendar\n",
    "from datetime import datetime\n",
    "from multiprocessing import Pool, cpu_count\n",
    "from functools import partial\n",
    "from utils import download_to_csv, update_log\n",
    "\n",
    "def download(symbol:str, start_date:str, end_date:str):\n",
    "    year_end = int(end_date.split('-')[0])\n",
    "    month_end = int(end_date.split('-')[1])\n",
    "    last_day = calendar.monthrange(year_end, month_end)[1]\n",
    "    date_range = pd.date_range(start=start_date, end=f'{end_date}-{last_day}', freq='M')\n",
    "    date_range = date_range.format(formatter=lambda x: x.strftime('%Y-%m'))\n",
    "    \n",
    "    pool = Pool(processes=cpu_count()-1)\n",
    "    with pool as p:\n",
    "        df = list(p.map(partial(download_to_csv, symbol=symbol), date_range))\n",
    "        df = pd.concat(df)\n",
    "\n",
    "        if datetime.now() <= pd.to_datetime(f'{end_date}-{last_day}'):\n",
    "            date_range = pd.date_range(start=end_date, end=datetime.now(), freq='D')\n",
    "            date_range = date_range.format(formatter=lambda x: x.strftime('%Y-%m-%d'))\n",
    "            df_daily = list(p.map(partial(download_to_csv, symbol=symbol, periodical='daily'), date_range))\n",
    "            df_daily = pd.concat(df_daily)\n",
    "            df = pd.concat([df, df_daily])\n",
    "            # df = df.reset_index(drop=True)\n",
    "            \n",
    "    min_date = df['date'].min().strftime('%Y-%m-%d')\n",
    "    max_date = df['date'].max().strftime('%Y-%m-%d')\n",
    "    df.to_csv(f'./binance/{symbol}-price.csv', index=False)\n",
    "    update_log(f'{symbol}-1d-{min_date}-to-{max_date}')"
   ]
  }
 ],
 "metadata": {
  "kernelspec": {
   "display_name": "Python 3",
   "language": "python",
   "name": "python3"
  },
  "language_info": {
   "codemirror_mode": {
    "name": "ipython",
    "version": 3
   },
   "file_extension": ".py",
   "mimetype": "text/x-python",
   "name": "python",
   "nbconvert_exporter": "python",
   "pygments_lexer": "ipython3",
   "version": "3.8.8"
  }
 },
 "nbformat": 4,
 "nbformat_minor": 5
}
