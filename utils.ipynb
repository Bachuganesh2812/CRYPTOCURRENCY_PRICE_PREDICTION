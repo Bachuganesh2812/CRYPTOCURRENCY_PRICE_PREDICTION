{
 "cells": [
  {
   "cell_type": "code",
   "execution_count": null,
   "id": "736f54b0",
   "metadata": {},
   "outputs": [],
   "source": [
    "import os\n",
    "import pandas as pd\n",
    "from datetime import datetime\n",
    "# from urllib.request import urlopen\n",
    "# from io import BytesIO\n",
    "# from zipfile import ZipFile\n",
    "\n",
    "\n",
    "BASE_DIR = os.path.dirname(os.path.realpath(__file__))\n",
    "\n",
    "def update_log(file_name):\n",
    "    current_time = datetime.now().strftime(\"%Y-%m-%d %H:%M:%S (UTC+07:00)\")\n",
    "    log = f'{file_name} downloaded at {current_time}\\n'\n",
    "    with open('download-log.txt', 'a') as f:\n",
    "        f.write(log)\n",
    "        f.close()\n",
    "\n",
    "def download_to_csv(date, symbol, periodical='monthly'):\n",
    "    url = f'https://data.binance.vision/data/spot/{periodical}/klines/{symbol}/1d/{symbol}-1d-{date}.zip'\n",
    "    file_name = f'{symbol}-1d-{date}'\n",
    "    df = pd.DataFrame()\n",
    "    try:\n",
    "        # http_response = urlopen(url)\n",
    "        # zipfile = ZipFile(BytesIO(http_response.read()))\n",
    "        # csv_file = zipfile.open(f'{file_name}.csv')\n",
    "        cols = {1:'open', 2:'high', 3:'low', 4:'close', 5:'volume'}\n",
    "        df = pd.read_csv(url, compression='zip',header=None, usecols=[1,2,3,4,5])\n",
    "        df = df.rename(columns=cols)\n",
    "        df['date'] = pd.date_range(start=date, periods=len(df))\n",
    "    except:\n",
    "        print(f'{file_name} unable to download.')\n",
    "        \n",
    "    return df"
   ]
  }
 ],
 "metadata": {
  "kernelspec": {
   "display_name": "Python 3",
   "language": "python",
   "name": "python3"
  },
  "language_info": {
   "codemirror_mode": {
    "name": "ipython",
    "version": 3
   },
   "file_extension": ".py",
   "mimetype": "text/x-python",
   "name": "python",
   "nbconvert_exporter": "python",
   "pygments_lexer": "ipython3",
   "version": "3.8.8"
  }
 },
 "nbformat": 4,
 "nbformat_minor": 5
}
